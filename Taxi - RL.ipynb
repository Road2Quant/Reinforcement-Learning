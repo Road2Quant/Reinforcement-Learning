{
 "cells": [
  {
   "cell_type": "markdown",
   "id": "verbal-wichita",
   "metadata": {},
   "source": [
    "# 🚕 The Taxi Problem (Taxi-v3) 🚕"
   ]
  },
  {
   "cell_type": "markdown",
   "id": "smart-parking",
   "metadata": {},
   "source": [
    "### (Reinforcement Learning Solution)"
   ]
  },
  {
   "cell_type": "markdown",
   "id": "grateful-wisdom",
   "metadata": {},
   "source": [
    "## Description:\n",
    "There are four designated locations in the grid world indicated by R(ed), G(reen), Y(ellow), and B(lue). When the episode starts, the taxi starts off at a random square and the passenger is at a random location. The taxi drives to the passenger's location, picks up the passenger, drives to the passenger's destination (another one of the four specified locations), and then drops off the passenger. Once the passenger is dropped off, the episode ends.\n",
    "\n",
    "[Openai Link](https://gym.openai.com/envs/Taxi-v3/)  \n",
    "[Github Link](https://github.com/openai/gym/blob/master/gym/envs/toy_text/taxi.py)\n",
    "\n",
    "## Observations:\n",
    "There are 500 discrete states since there are 25 taxi positions, 5 possible locations of the passenger (including the case when the passenger is in the taxi), and 4 destination locations. \n",
    "\n",
    "## Passenger locations:\n",
    "- 0: R(ed)\n",
    "- 1: G(reen)\n",
    "- 2: Y(ellow)\n",
    "- 3: B(lue)\n",
    "- 4: in taxi\n",
    "\n",
    "## Destinations:\n",
    "- 0: R(ed)\n",
    "- 1: G(reen)\n",
    "- 2: Y(ellow)\n",
    "- 3: B(lue)\n",
    "\n",
    "## Actions:\n",
    "There are 6 discrete deterministic actions:\n",
    "- 0: move south\n",
    "- 1: move north\n",
    "- 2: move east\n",
    "- 3: move west\n",
    "- 4: pickup passenger\n",
    "- 5: drop off passenger"
   ]
  },
  {
   "cell_type": "markdown",
   "id": "modular-feedback",
   "metadata": {},
   "source": [
    "## Import Packages"
   ]
  },
  {
   "cell_type": "code",
   "execution_count": 2,
   "id": "frequent-blond",
   "metadata": {},
   "outputs": [],
   "source": [
    "import gym\n",
    "import random\n",
    "import numpy as np\n",
    "import pandas as pd\n",
    "from pylab import plt\n",
    "from IPython import display\n",
    "plt.style.use('seaborn')\n",
    "import warnings; warnings.simplefilter('ignore')\n",
    "from collections import deque"
   ]
  },
  {
   "cell_type": "markdown",
   "id": "published-adoption",
   "metadata": {},
   "source": [
    "## Setting seeds"
   ]
  },
  {
   "cell_type": "code",
   "execution_count": 3,
   "id": "scheduled-township",
   "metadata": {},
   "outputs": [],
   "source": [
    "def set_seeds(seed=42):\n",
    "    random.seed(seed)\n",
    "    np.random.seed(seed)\n",
    "    env.seed(seed)"
   ]
  },
  {
   "cell_type": "markdown",
   "id": "commercial-status",
   "metadata": {},
   "source": [
    "## Environment"
   ]
  },
  {
   "cell_type": "code",
   "execution_count": 4,
   "id": "powerful-particle",
   "metadata": {},
   "outputs": [],
   "source": [
    "env = gym.make('Taxi-v3')"
   ]
  },
  {
   "cell_type": "markdown",
   "id": "grateful-exemption",
   "metadata": {},
   "source": [
    "## Action Space"
   ]
  },
  {
   "cell_type": "code",
   "execution_count": 5,
   "id": "divided-mexico",
   "metadata": {},
   "outputs": [
    {
     "data": {
      "text/plain": [
       "Discrete(6)"
      ]
     },
     "execution_count": 5,
     "metadata": {},
     "output_type": "execute_result"
    }
   ],
   "source": [
    "env.action_space  # type of action space"
   ]
  },
  {
   "cell_type": "code",
   "execution_count": 6,
   "id": "departmental-postcard",
   "metadata": {},
   "outputs": [
    {
     "data": {
      "text/plain": [
       "6"
      ]
     },
     "execution_count": 6,
     "metadata": {},
     "output_type": "execute_result"
    }
   ],
   "source": [
    "env.action_space.n  # number of discrete actions"
   ]
  },
  {
   "cell_type": "code",
   "execution_count": 7,
   "id": "false-electricity",
   "metadata": {},
   "outputs": [
    {
     "data": {
      "text/plain": [
       "4"
      ]
     },
     "execution_count": 7,
     "metadata": {},
     "output_type": "execute_result"
    }
   ],
   "source": [
    "env.action_space.sample()  # sample action"
   ]
  },
  {
   "cell_type": "code",
   "execution_count": 8,
   "id": "retired-coupon",
   "metadata": {},
   "outputs": [
    {
     "data": {
      "text/plain": [
       "[3, 3, 1, 0, 2, 0, 3, 4, 0, 1]"
      ]
     },
     "execution_count": 8,
     "metadata": {},
     "output_type": "execute_result"
    }
   ],
   "source": [
    "[env.action_space.sample() for _ in range(10)]"
   ]
  },
  {
   "cell_type": "markdown",
   "id": "horizontal-genome",
   "metadata": {},
   "source": [
    "## Observation Space"
   ]
  },
  {
   "cell_type": "code",
   "execution_count": 9,
   "id": "global-thousand",
   "metadata": {},
   "outputs": [],
   "source": [
    "np.set_printoptions(precision=4, suppress=True)"
   ]
  },
  {
   "cell_type": "code",
   "execution_count": 10,
   "id": "comprehensive-making",
   "metadata": {},
   "outputs": [
    {
     "data": {
      "text/plain": [
       "Discrete(500)"
      ]
     },
     "execution_count": 10,
     "metadata": {},
     "output_type": "execute_result"
    }
   ],
   "source": [
    "env.observation_space  # type of observation space"
   ]
  },
  {
   "cell_type": "code",
   "execution_count": 11,
   "id": "improved-strategy",
   "metadata": {},
   "outputs": [
    {
     "data": {
      "text/plain": [
       "212"
      ]
     },
     "execution_count": 11,
     "metadata": {},
     "output_type": "execute_result"
    }
   ],
   "source": [
    "o = env.reset()\n",
    "o"
   ]
  },
  {
   "cell_type": "code",
   "execution_count": 12,
   "id": "actual-means",
   "metadata": {},
   "outputs": [
    {
     "data": {
      "text/plain": [
       "[2, 0, 3, 0]"
      ]
     },
     "execution_count": 12,
     "metadata": {},
     "output_type": "execute_result"
    }
   ],
   "source": [
    "# (taxi row, taxi column, passenger location, destination location)\n",
    "list(env.decode(o))"
   ]
  },
  {
   "cell_type": "code",
   "execution_count": 13,
   "id": "vocational-subscription",
   "metadata": {},
   "outputs": [
    {
     "data": {
      "text/plain": [
       "<list_reverseiterator at 0xffff56dd8400>"
      ]
     },
     "execution_count": 13,
     "metadata": {},
     "output_type": "execute_result"
    }
   ],
   "source": [
    "env.decode(o)"
   ]
  },
  {
   "cell_type": "markdown",
   "id": "accepting-spouse",
   "metadata": {},
   "source": [
    "## Taking Action"
   ]
  },
  {
   "cell_type": "markdown",
   "id": "continuing-religious",
   "metadata": {},
   "source": [
    "The **blue** letter represents the current passenger pick-up location, and the **purple** letter is the current destination."
   ]
  },
  {
   "cell_type": "code",
   "execution_count": 14,
   "id": "latter-savannah",
   "metadata": {},
   "outputs": [
    {
     "name": "stdout",
     "output_type": "stream",
     "text": [
      "+---------+\n",
      "|\u001b[35mR\u001b[0m: | : :G|\n",
      "| : | : : |\n",
      "|\u001b[43m \u001b[0m: : : : |\n",
      "| | : | : |\n",
      "|Y| : |\u001b[34;1mB\u001b[0m: |\n",
      "+---------+\n",
      "\n"
     ]
    }
   ],
   "source": [
    "env.render()"
   ]
  },
  {
   "cell_type": "markdown",
   "id": "previous-thanksgiving",
   "metadata": {},
   "source": [
    "To save the render into a variable you use the 'ansi' option `env.render(mode='ansi')`"
   ]
  },
  {
   "cell_type": "code",
   "execution_count": 15,
   "id": "consecutive-cookbook",
   "metadata": {},
   "outputs": [
    {
     "name": "stdout",
     "output_type": "stream",
     "text": [
      "+---------+\n",
      "|\u001b[35mR\u001b[0m: | : :G|\n",
      "| : | : : |\n",
      "|\u001b[43m \u001b[0m: : : : |\n",
      "| | : | : |\n",
      "|Y| : |\u001b[34;1mB\u001b[0m: |\n",
      "+---------+\n",
      "\n",
      "\n"
     ]
    }
   ],
   "source": [
    "r = env.render(mode='ansi')\n",
    "print(r)"
   ]
  },
  {
   "cell_type": "code",
   "execution_count": 16,
   "id": "elder-picking",
   "metadata": {},
   "outputs": [
    {
     "data": {
      "text/plain": [
       "2"
      ]
     },
     "execution_count": 16,
     "metadata": {},
     "output_type": "execute_result"
    }
   ],
   "source": [
    "a = env.action_space.sample()  # random action\n",
    "a"
   ]
  },
  {
   "cell_type": "code",
   "execution_count": 17,
   "id": "acting-halifax",
   "metadata": {},
   "outputs": [
    {
     "data": {
      "text/plain": [
       "(232, -1, False, {'prob': 1.0})"
      ]
     },
     "execution_count": 17,
     "metadata": {},
     "output_type": "execute_result"
    }
   ],
   "source": [
    "r = env.step(a)  # taking action, capturing new observations\n",
    "r  # (observation, reward, done, info)"
   ]
  },
  {
   "cell_type": "code",
   "execution_count": 18,
   "id": "atlantic-pizza",
   "metadata": {},
   "outputs": [
    {
     "name": "stdout",
     "output_type": "stream",
     "text": [
      "+---------+\n",
      "|\u001b[35mR\u001b[0m: | : :G|\n",
      "| : | : : |\n",
      "| :\u001b[43m \u001b[0m: : : |\n",
      "| | : | : |\n",
      "|Y| : |\u001b[34;1mB\u001b[0m: |\n",
      "+---------+\n",
      "  (East)\n"
     ]
    }
   ],
   "source": [
    "env.render()"
   ]
  },
  {
   "cell_type": "code",
   "execution_count": 19,
   "id": "prompt-medicare",
   "metadata": {},
   "outputs": [
    {
     "data": {
      "text/plain": [
       "(132, -1, False, {'prob': 1.0})"
      ]
     },
     "execution_count": 19,
     "metadata": {},
     "output_type": "execute_result"
    }
   ],
   "source": [
    "env.step(1)"
   ]
  },
  {
   "cell_type": "code",
   "execution_count": 20,
   "id": "general-greek",
   "metadata": {},
   "outputs": [
    {
     "name": "stdout",
     "output_type": "stream",
     "text": [
      "+---------+\n",
      "|\u001b[35mR\u001b[0m: | : :G|\n",
      "| :\u001b[43m \u001b[0m| : : |\n",
      "| : : : : |\n",
      "| | : | : |\n",
      "|Y| : |\u001b[34;1mB\u001b[0m: |\n",
      "+---------+\n",
      "  (North)\n"
     ]
    }
   ],
   "source": [
    "env.render()"
   ]
  },
  {
   "cell_type": "code",
   "execution_count": 21,
   "id": "developed-hammer",
   "metadata": {},
   "outputs": [
    {
     "data": {
      "text/plain": [
       "(32, -1, False, {'prob': 1.0})"
      ]
     },
     "execution_count": 21,
     "metadata": {},
     "output_type": "execute_result"
    }
   ],
   "source": [
    "env.step(1)"
   ]
  },
  {
   "cell_type": "code",
   "execution_count": 22,
   "id": "classical-denial",
   "metadata": {},
   "outputs": [
    {
     "name": "stdout",
     "output_type": "stream",
     "text": [
      "+---------+\n",
      "|\u001b[35mR\u001b[0m:\u001b[43m \u001b[0m| : :G|\n",
      "| : | : : |\n",
      "| : : : : |\n",
      "| | : | : |\n",
      "|Y| : |\u001b[34;1mB\u001b[0m: |\n",
      "+---------+\n",
      "  (North)\n"
     ]
    }
   ],
   "source": [
    "env.render()"
   ]
  },
  {
   "cell_type": "markdown",
   "id": "coordinated-sunset",
   "metadata": {},
   "source": [
    "## Random Algorithm"
   ]
  },
  {
   "cell_type": "code",
   "execution_count": 23,
   "id": "strategic-maryland",
   "metadata": {},
   "outputs": [
    {
     "name": "stdout",
     "output_type": "stream",
     "text": [
      "Timesteps taken: 197\n",
      "Penalties incurred: 68\n"
     ]
    }
   ],
   "source": [
    "##\n",
    "## Code copied from \n",
    "## https://www.learndatasci.com/tutorials/reinforcement-q-learning-scratch-python-openai-gym/\n",
    "##\n",
    "\n",
    "#env.s = 328  # set environment to illustration's state\n",
    "\n",
    "epochs = 0\n",
    "penalties, reward = 0, 0\n",
    "\n",
    "frames = [] # for animation\n",
    "\n",
    "done = False\n",
    "\n",
    "while not done:\n",
    "    action = env.action_space.sample()\n",
    "    state, reward, done, info = env.step(action)\n",
    "\n",
    "    if reward == -10:\n",
    "        penalties += 1\n",
    "    \n",
    "    # Put each rendered frame into dict for animation\n",
    "    frames.append({\n",
    "        'frame': env.render(mode='ansi'),\n",
    "        'state': state,\n",
    "        'action': action,\n",
    "        'reward': reward\n",
    "        }\n",
    "    )\n",
    "\n",
    "    epochs += 1\n",
    "    \n",
    "    \n",
    "print(\"Timesteps taken: {}\".format(epochs))\n",
    "print(\"Penalties incurred: {}\".format(penalties))"
   ]
  },
  {
   "cell_type": "code",
   "execution_count": 25,
   "id": "opening-samuel",
   "metadata": {},
   "outputs": [],
   "source": [
    "from IPython.display import clear_output\n",
    "from time import sleep\n",
    "\n",
    "def print_frames(frames):\n",
    "    for i, frame in enumerate(frames):\n",
    "        clear_output(wait=True)\n",
    "        print(frame['frame'])\n",
    "        print(f\"Timestep: {i + 1}\")\n",
    "        print(f\"State: {frame['state']}\")\n",
    "        print(f\"Action: {frame['action']}\")\n",
    "        print(f\"Reward: {frame['reward']}\")\n",
    "        sleep(.5)\n",
    "        \n",
    "#print_frames(frames)"
   ]
  },
  {
   "cell_type": "code",
   "execution_count": 26,
   "id": "partial-wages",
   "metadata": {},
   "outputs": [
    {
     "data": {
      "text/plain": [
       "6"
      ]
     },
     "execution_count": 26,
     "metadata": {},
     "output_type": "execute_result"
    }
   ],
   "source": [
    "env.action_space.n"
   ]
  },
  {
   "cell_type": "markdown",
   "id": "forbidden-terminology",
   "metadata": {},
   "source": [
    "## Q Learning"
   ]
  },
  {
   "cell_type": "code",
   "execution_count": 36,
   "id": "superb-relations",
   "metadata": {},
   "outputs": [],
   "source": [
    "class DQLAgent:\n",
    "    def __init__(self):\n",
    "        self.epsilon = 1.0  # initial epsilon\n",
    "        self.epsilon_min = 0.01  # minimal epsilon\n",
    "        self.epsilon_decay = 0.995  # epsilon decay\n",
    "        self.gamma = 0.95  # discount factor\n",
    "        self.batch_size = 128  # batch size for replay\n",
    "        self.max_treward = -1e6\n",
    "        self.averages = list()\n",
    "        self.memory = deque(maxlen=2000)  # fixed memory\n",
    "        self.osn = 1\n",
    "        self.qtable = np.ones((env.observation_space.n, env.action_space.n))/env.action_space.n\n",
    "        \n",
    "        \n",
    "    def act(self, state):\n",
    "        if random.random() <= self.epsilon:\n",
    "            return env.action_space.sample()\n",
    "        action = np.argmax(self.qtable[state,:])\n",
    "        return action  # choose action with highest value\n",
    "    \n",
    "    def replay(self):\n",
    "        batch = random.sample(self.memory, self.batch_size)\n",
    "\n",
    "        for state, action, reward, next_state, done in batch:\n",
    "            if not done:\n",
    "                self.qtable[state, action] +=  reward + self.gamma * \\\n",
    "                np.max(self.qtable[next_state, :]) - self.qtable[state, action]\n",
    "            \n",
    "        if self.epsilon > self.epsilon_min:\n",
    "            self.epsilon *= self.epsilon_decay\n",
    "\n",
    "    \n",
    "    \n",
    "    def learn(self, episodes):\n",
    "        trewards = []\n",
    "        i = 0\n",
    "        for e in range(1, episodes + 1):\n",
    "            state = env.reset()\n",
    "            treward = 0\n",
    "            for _ in range(5000):\n",
    "                action = self.act(state)\n",
    "                next_state, reward, done, info = env.step(action)\n",
    "                self.memory.append([state, action, reward,\n",
    "                                     next_state, done])\n",
    "                state = next_state\n",
    "                treward += float(reward)\n",
    "                if done:\n",
    "                    trewards.append(treward)\n",
    "                    av = sum(trewards[-25:]) / 25\n",
    "                    self.averages.append(av)\n",
    "                    self.max_treward = max(self.max_treward, treward)\n",
    "                    templ = 'episode: {:4d}/{} | treward: {:7.1f} | '\n",
    "                    templ += 'av: {:7.1f} | max: {:7.1f}'\n",
    "                    print(templ.format(e, episodes, treward, av,\n",
    "                                       self.max_treward), end='\\r')\n",
    "                    break\n",
    "            if len(self.memory) > self.batch_size:\n",
    "                self.replay()\n",
    "            if treward > 200:\n",
    "                break\n",
    "        print()\n",
    "                \n",
    "    def test(self, episodes):\n",
    "        trewards = []\n",
    "        for e in range(1, episodes + 1):\n",
    "            state = env.reset()\n",
    "            treward = 0\n",
    "            for _ in range(1001):\n",
    "                action = np.argmax(self.qtable[state,:])\n",
    "                next_state, reward, done, info = env.step(action)\n",
    "                state = next_state\n",
    "                treward += float(reward)\n",
    "                if done:\n",
    "                    trewards.append(treward)\n",
    "                    print('episode: {:4d}/{} | treward: {:7.1f}'\n",
    "                          .format(e, episodes, treward), end='\\r')\n",
    "                    break\n",
    "        return trewards"
   ]
  },
  {
   "cell_type": "code",
   "execution_count": 37,
   "id": "challenging-discovery",
   "metadata": {},
   "outputs": [],
   "source": [
    "set_seeds(100)\n",
    "agent = DQLAgent()"
   ]
  },
  {
   "cell_type": "code",
   "execution_count": 38,
   "id": "crucial-insured",
   "metadata": {},
   "outputs": [],
   "source": [
    "episodes = 5000"
   ]
  },
  {
   "cell_type": "code",
   "execution_count": 39,
   "id": "asian-tragedy",
   "metadata": {},
   "outputs": [
    {
     "name": "stdout",
     "output_type": "stream",
     "text": [
      "episode: 5000/5000 | treward:     7.0 | av:     7.0 | max:    15.0\n",
      "CPU times: user 1min 11s, sys: 14.8 s, total: 1min 26s\n",
      "Wall time: 1min 11s\n"
     ]
    }
   ],
   "source": [
    "%time agent.learn(episodes)"
   ]
  },
  {
   "cell_type": "code",
   "execution_count": 40,
   "id": "documented-defeat",
   "metadata": {},
   "outputs": [
    {
     "data": {
      "text/plain": [
       "array([[  0.1667,   0.1667,   0.1667,   0.1667,   0.1667,   0.1667],\n",
       "       [ -7.9255,  -7.9255,  -7.9255,  -7.9255,  -7.29  , -16.9255],\n",
       "       [ -5.1756,  -5.1756,  -5.1756,  -5.1756,  -4.3954, -14.1756],\n",
       "       ...,\n",
       "       [ -4.3954,  -3.5741,  -4.3954,  -3.5741, -11.7096, -13.3954],\n",
       "       [ -5.9169,  -5.9169,  -5.9169,  -6.621 , -14.1756, -14.9169],\n",
       "       [ -1.7996,  -1.7996,  -1.7996,  -0.8417, -10.7996, -10.7996]])"
      ]
     },
     "execution_count": 40,
     "metadata": {},
     "output_type": "execute_result"
    }
   ],
   "source": [
    "agent.qtable"
   ]
  },
  {
   "cell_type": "code",
   "execution_count": 41,
   "id": "arbitrary-project",
   "metadata": {},
   "outputs": [
    {
     "name": "stdout",
     "output_type": "stream",
     "text": [
      "episode:   20/20 | treward:     6.0\r"
     ]
    }
   ],
   "source": [
    "trewards = agent.test(20)"
   ]
  },
  {
   "cell_type": "code",
   "execution_count": 42,
   "id": "instructional-nigeria",
   "metadata": {},
   "outputs": [
    {
     "data": {
      "text/plain": [
       "7.45"
      ]
     },
     "execution_count": 42,
     "metadata": {},
     "output_type": "execute_result"
    }
   ],
   "source": [
    "sum(trewards) / len(trewards)"
   ]
  },
  {
   "cell_type": "code",
   "execution_count": 43,
   "id": "documented-facing",
   "metadata": {},
   "outputs": [
    {
     "name": "stdout",
     "output_type": "stream",
     "text": [
      "Timesteps taken: 13\n",
      "Total Reward: 8.0\n"
     ]
    }
   ],
   "source": [
    "epochs = 0\n",
    "treward, reward = 0, 0\n",
    "frames = [] # for animation\n",
    "state = env.reset()\n",
    "done = False\n",
    "\n",
    "while not done:\n",
    "    action = np.argmax(agent.qtable[state,:])\n",
    "    state, reward, done, info = env.step(action)\n",
    "    \n",
    "    treward += float(reward)\n",
    "\n",
    "    # Put each rendered frame into dict for animation\n",
    "    frames.append({\n",
    "        'frame': env.render(mode='ansi'),\n",
    "        'state': state,\n",
    "        'action': action,\n",
    "        'reward': reward\n",
    "        }\n",
    "    )\n",
    "\n",
    "    epochs += 1\n",
    "    \n",
    "    \n",
    "print(\"Timesteps taken: {}\".format(epochs))\n",
    "print(\"Total Reward: {}\".format(treward))"
   ]
  },
  {
   "cell_type": "code",
   "execution_count": 44,
   "id": "wanted-english",
   "metadata": {},
   "outputs": [
    {
     "name": "stdout",
     "output_type": "stream",
     "text": [
      "+---------+\n",
      "|R: | : :G|\n",
      "| : | : : |\n",
      "| : : : : |\n",
      "| | : | : |\n",
      "|Y| : |\u001b[35m\u001b[34;1m\u001b[43mB\u001b[0m\u001b[0m\u001b[0m: |\n",
      "+---------+\n",
      "  (Dropoff)\n",
      "\n",
      "Timestep: 13\n",
      "State: 475\n",
      "Action: 5\n",
      "Reward: 20\n"
     ]
    }
   ],
   "source": [
    "print_frames(frames)"
   ]
  },
  {
   "cell_type": "code",
   "execution_count": null,
   "id": "continued-renaissance",
   "metadata": {},
   "outputs": [],
   "source": []
  }
 ],
 "metadata": {
  "kernelspec": {
   "display_name": "Python 3",
   "language": "python",
   "name": "python3"
  },
  "language_info": {
   "codemirror_mode": {
    "name": "ipython",
    "version": 3
   },
   "file_extension": ".py",
   "mimetype": "text/x-python",
   "name": "python",
   "nbconvert_exporter": "python",
   "pygments_lexer": "ipython3",
   "version": "3.8.8"
  }
 },
 "nbformat": 4,
 "nbformat_minor": 5
}
